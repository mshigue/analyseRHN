{
 "metadata": {
  "language_info": {
   "codemirror_mode": {
    "name": "ipython",
    "version": 3
   },
   "file_extension": ".py",
   "mimetype": "text/x-python",
   "name": "python",
   "nbconvert_exporter": "python",
   "pygments_lexer": "ipython3",
   "version": "3.8.3-final"
  },
  "orig_nbformat": 2,
  "kernelspec": {
   "name": "python3",
   "display_name": "Python 3"
  }
 },
 "nbformat": 4,
 "nbformat_minor": 2,
 "cells": [
  {
   "cell_type": "markdown",
   "metadata": {},
   "source": [
    "## Importa o inventário da rede Hidro da ANA\n",
    "\n",
    "Dados importados do inventario do Hidro da ANA, segundo o documento \"DESCRIÇÃO PARA DISPONIBILIZAR DADOS HIDROMETEOROLÓGICOS DOS SISTEMAS TELEMETRIA 1 E HIDRO\" da ANA, disponível em https://www.ana.gov.br/telemetria1ws/Telemetria1ws.pdf"
   ]
  },
  {
   "cell_type": "code",
   "execution_count": 1,
   "metadata": {
    "tags": []
   },
   "outputs": [],
   "source": [
    "import pandas as pd\n",
    "import requests\n",
    "import xml.etree.ElementTree as ET\n",
    "from tqdm import tqdm\n",
    "from datetime import datetime"
   ]
  },
  {
   "cell_type": "markdown",
   "metadata": {},
   "source": [
    "A função importa e retorna a lista de todas as estações da rede Hidro, portanto, pode levar muito tempo para a execução. Deve ser utilizada apenas para atualização do data frame.\n",
    "\n",
    "Caso queira aplicar um filtro na importação dos dados, insira o parâmetro desejado em `paramsHidro`, por exemplo: quero só os dados das estações de responsabilidade da ANA `paramsHidro = {..., 'sgResp':'ANA', ...}`, isso ajudará o processo ser mais rápido."
   ]
  },
  {
   "cell_type": "code",
   "execution_count": 2,
   "metadata": {},
   "outputs": [],
   "source": [
    "paramsHidro = {'codEstDE':'', 'codEstATE':'', 'tpEst':'', 'nmEst':'',\n",
    "               'nmRio':'', 'codSubBacia':'', 'codBacia':'',\n",
    "               'nmMunicipio':'', 'nmEstado':'',\n",
    "               'sgResp':'', 'sgOper':'',\n",
    "               'telemetrica':''}\n",
    "\n",
    "inventarioHidro = requests.get('http://telemetriaws1.ana.gov.br/ServiceANA.asmx/HidroInventario', paramsHidro)\n",
    "tree = ET.ElementTree(ET.fromstring(inventarioHidro.content))\n",
    "root = tree.getroot()"
   ]
  },
  {
   "cell_type": "markdown",
   "metadata": {},
   "source": [
    "Cria o data frame do inventário e exporta para um arquivo csv, assim, evita o tempo para baixar novamente os dados.\n",
    "\n",
    "Em `columnsHidro` você pode selecionar os parâmetros de saída que deseja ser inserido no data frame."
   ]
  },
  {
   "cell_type": "code",
   "execution_count": 3,
   "metadata": {
    "tags": []
   },
   "outputs": [],
   "source": [
    " columnsHidro = ['BaciaCodigo', 'SubBaciaCodigo', 'RioCodigo',\n",
    "#                'EstadoCodigo', 'MunicipioCodigo',\n",
    "                 'nmEstado', 'nmMunicipio',\n",
    "#                'ResponsavelCodigo', 'OperadoraCodigo',\n",
    "                 'ResponsavelSigla', 'OperadoraSigla',\n",
    "#                'ResponsavelUnidade', 'ResponsavelJurisdicao',\n",
    "#                'OperadoraUnidade', 'OperadoraSubUnidade',\n",
    "                 'TipoEstacao', 'Codigo', 'Nome',\n",
    "#                'CodigoAdicional',\n",
    "                 'Latitude', 'Longitude', 'Altitude', 'AreaDrenagem',\n",
    "                 'TipoEstacaoEscala', 'TipoEstacaoRegistradorNivel', 'TipoEstacaoDescLiquida',\n",
    "                 'TipoEstacaoSedimentos', 'TipoEstacaoQualAgua', 'TipoEstacaoPluviometro',\n",
    "                 'TipoEstacaoRegistradorChuva', 'TipoEstacaoTanqueEvapo', 'TipoEstacaoClimatologica',\n",
    "                 'TipoEstacaoPiezometria', 'TipoEstacaoTelemetrica',\n",
    "                 'PeriodoEscalaInicio', 'PeriodoEscalaFim',\n",
    "                 'PeriodoRegistradorNivelInicio', 'PeriodoRegistradorNivelFim',\n",
    "                 'PeriodoDescLiquidaInicio', 'PeriodoDescLiquidaFim',\n",
    "                 'PeriodoSedimentosInicio', 'PeriodoSedimentosFim',\n",
    "                 'PeriodoQualAguaInicio', 'PeriodoQualAguaFim',\n",
    "                 'PeriodoPluviometroInicio', 'PeriodoPluviometroFim',\n",
    "                 'PeriodoRegistradorChuvaInicio', 'PeriodoRegistradorChuvaFim',\n",
    "                 'PeriodoTanqueEvapoInicio', 'PeriodoTanqueEvapoFim',\n",
    "                 'PeriodoClimatologicaInicio', 'PeriodoClimatologicaFim',\n",
    "                 'PeriodoPiezometriaInicio', 'PeriodoPiezometriaFim',\n",
    "                 'PeriodoTelemetricaInicio', 'PeriodoTelemetricaFim',\n",
    "                 'TipoRedeBasica', 'TipoRedeEnergetica', 'TipoRedeNavegacao', 'TipoRedeCursoDagua',\n",
    "                 'TipoRedeEstrategica', 'TipoRedeCaptacao', 'TipoRedeSedimentos', 'TipoRedeQualAgua',\n",
    "                 'TipoRedeClasseVazao',\n",
    "                 'UltimaAtualizacao', 'Operando',\n",
    "#                'Descricao', 'NumImagens', 'DataIns', 'DataAlt'\n",
    "                 ]"
   ]
  },
  {
   "cell_type": "code",
   "execution_count": 4,
   "metadata": {
    "tags": []
   },
   "outputs": [
    {
     "output_type": "stream",
     "name": "stderr",
     "text": "38207it [14:58, 42.53it/s]\n"
    }
   ],
   "source": [
    "columnsDate = ['PeriodoEscalaInicio', 'PeriodoEscalaFim',\n",
    "               'PeriodoRegistradorNivelInicio', 'PeriodoRegistradorNivelFim',\n",
    "               'PeriodoDescLiquidaInicio', 'PeriodoDescLiquidaFim',\n",
    "               'PeriodoSedimentosInicio', 'PeriodoSedimentosFim',\n",
    "               'PeriodoQualAguaInicio', 'PeriodoQualAguaFim',\n",
    "               'PeriodoPluviometroInicio', 'PeriodoPluviometroFim',\n",
    "               'PeriodoRegistradorChuvaInicio', 'PeriodoRegistradorChuvaFim',\n",
    "               'PeriodoTanqueEvapoInicio', 'PeriodoTanqueEvapoFim',\n",
    "               'PeriodoClimatologicaInicio', 'PeriodoClimatologicaFim',\n",
    "               'PeriodoPiezometriaInicio', 'PeriodoPiezometriaFim',\n",
    "               'PeriodoTelemetricaInicio', 'PeriodoTelemetricaFim',\n",
    "               'UltimaAtualizacao',\n",
    "               'DataIns', 'DataAlt']\n",
    "index = 1\n",
    "dfHidro = pd.DataFrame()\n",
    "for station in tqdm(root.iter('Table')):\n",
    "    for column in columnsHidro:\n",
    "        if column in columnsDate:\n",
    "            if station.find(column).text is not None:\n",
    "                dfHidro.at[index, column] = pd.to_datetime(datetime.strptime(station.find(column).text, '%Y-%m-%d %H:%M:%S'), errors = 'coerce')\n",
    "            else:\n",
    "                dfHidro.at[index, column] = None\n",
    "        else:\n",
    "            dfHidro.at[index, column] = getattr(station.find(column), 'text', None)\n",
    "    index += 1\n",
    "dfHidro.to_csv('dfHidro.csv')"
   ]
  },
  {
   "cell_type": "code",
   "execution_count": 5,
   "metadata": {
    "tags": []
   },
   "outputs": [
    {
     "output_type": "execute_result",
     "data": {
      "text/plain": "  BaciaCodigo SubBaciaCodigo  RioCodigo nmEstado  nmMunicipio  \\\n1           3             32        NaN     PARÁ  SALINÓPOLIS   \n2           3             32        NaN     PARÁ     MARACANÃ   \n3           3             32        NaN     PARÁ  SALINÓPOLIS   \n4           3             32        NaN     PARÁ       CURUÇA   \n5           3             32        NaN     PARÁ    PRIMAVERA   \n\n  ResponsavelSigla OperadoraSigla TipoEstacao Codigo         Nome  ...  \\\n1            INMET          INMET           2  47000  SALINÓPOLIS  ...   \n2            IDESP          IDESP           2  47001     MARACANÃ  ...   \n3              ANA           CPRM           2  47002  SALINÓPOLIS  ...   \n4              ANA           CPRM           2  47003       CURUÇA  ...   \n5              ANA           CPRM           2  47004    PRIMAVERA  ...   \n\n  TipoRedeEnergetica TipoRedeNavegacao TipoRedeCursoDagua  \\\n1                  0                 0                  0   \n2                  0                 0                  9   \n3                  0                 0                  0   \n4                  0                 0                  0   \n5                  0                 0                  0   \n\n   TipoRedeEstrategica TipoRedeCaptacao TipoRedeSedimentos TipoRedeQualAgua  \\\n1                    0                1                  0                0   \n2                    0                3                  0                0   \n3                    0                7                  0                0   \n4                    0                7                  0                0   \n5                    0                7                  0                0   \n\n  TipoRedeClasseVazao UltimaAtualizacao Operando  \n1                   0        2019-03-21        0  \n2                   0        2005-03-29        1  \n3                   0        2018-06-18        1  \n4                   0        2018-06-18        1  \n5                   0        2018-02-07        1  \n\n[5 rows x 58 columns]",
      "text/html": "<div>\n<style scoped>\n    .dataframe tbody tr th:only-of-type {\n        vertical-align: middle;\n    }\n\n    .dataframe tbody tr th {\n        vertical-align: top;\n    }\n\n    .dataframe thead th {\n        text-align: right;\n    }\n</style>\n<table border=\"1\" class=\"dataframe\">\n  <thead>\n    <tr style=\"text-align: right;\">\n      <th></th>\n      <th>BaciaCodigo</th>\n      <th>SubBaciaCodigo</th>\n      <th>RioCodigo</th>\n      <th>nmEstado</th>\n      <th>nmMunicipio</th>\n      <th>ResponsavelSigla</th>\n      <th>OperadoraSigla</th>\n      <th>TipoEstacao</th>\n      <th>Codigo</th>\n      <th>Nome</th>\n      <th>...</th>\n      <th>TipoRedeEnergetica</th>\n      <th>TipoRedeNavegacao</th>\n      <th>TipoRedeCursoDagua</th>\n      <th>TipoRedeEstrategica</th>\n      <th>TipoRedeCaptacao</th>\n      <th>TipoRedeSedimentos</th>\n      <th>TipoRedeQualAgua</th>\n      <th>TipoRedeClasseVazao</th>\n      <th>UltimaAtualizacao</th>\n      <th>Operando</th>\n    </tr>\n  </thead>\n  <tbody>\n    <tr>\n      <th>1</th>\n      <td>3</td>\n      <td>32</td>\n      <td>NaN</td>\n      <td>PARÁ</td>\n      <td>SALINÓPOLIS</td>\n      <td>INMET</td>\n      <td>INMET</td>\n      <td>2</td>\n      <td>47000</td>\n      <td>SALINÓPOLIS</td>\n      <td>...</td>\n      <td>0</td>\n      <td>0</td>\n      <td>0</td>\n      <td>0</td>\n      <td>1</td>\n      <td>0</td>\n      <td>0</td>\n      <td>0</td>\n      <td>2019-03-21</td>\n      <td>0</td>\n    </tr>\n    <tr>\n      <th>2</th>\n      <td>3</td>\n      <td>32</td>\n      <td>NaN</td>\n      <td>PARÁ</td>\n      <td>MARACANÃ</td>\n      <td>IDESP</td>\n      <td>IDESP</td>\n      <td>2</td>\n      <td>47001</td>\n      <td>MARACANÃ</td>\n      <td>...</td>\n      <td>0</td>\n      <td>0</td>\n      <td>9</td>\n      <td>0</td>\n      <td>3</td>\n      <td>0</td>\n      <td>0</td>\n      <td>0</td>\n      <td>2005-03-29</td>\n      <td>1</td>\n    </tr>\n    <tr>\n      <th>3</th>\n      <td>3</td>\n      <td>32</td>\n      <td>NaN</td>\n      <td>PARÁ</td>\n      <td>SALINÓPOLIS</td>\n      <td>ANA</td>\n      <td>CPRM</td>\n      <td>2</td>\n      <td>47002</td>\n      <td>SALINÓPOLIS</td>\n      <td>...</td>\n      <td>0</td>\n      <td>0</td>\n      <td>0</td>\n      <td>0</td>\n      <td>7</td>\n      <td>0</td>\n      <td>0</td>\n      <td>0</td>\n      <td>2018-06-18</td>\n      <td>1</td>\n    </tr>\n    <tr>\n      <th>4</th>\n      <td>3</td>\n      <td>32</td>\n      <td>NaN</td>\n      <td>PARÁ</td>\n      <td>CURUÇA</td>\n      <td>ANA</td>\n      <td>CPRM</td>\n      <td>2</td>\n      <td>47003</td>\n      <td>CURUÇA</td>\n      <td>...</td>\n      <td>0</td>\n      <td>0</td>\n      <td>0</td>\n      <td>0</td>\n      <td>7</td>\n      <td>0</td>\n      <td>0</td>\n      <td>0</td>\n      <td>2018-06-18</td>\n      <td>1</td>\n    </tr>\n    <tr>\n      <th>5</th>\n      <td>3</td>\n      <td>32</td>\n      <td>NaN</td>\n      <td>PARÁ</td>\n      <td>PRIMAVERA</td>\n      <td>ANA</td>\n      <td>CPRM</td>\n      <td>2</td>\n      <td>47004</td>\n      <td>PRIMAVERA</td>\n      <td>...</td>\n      <td>0</td>\n      <td>0</td>\n      <td>0</td>\n      <td>0</td>\n      <td>7</td>\n      <td>0</td>\n      <td>0</td>\n      <td>0</td>\n      <td>2018-02-07</td>\n      <td>1</td>\n    </tr>\n  </tbody>\n</table>\n<p>5 rows × 58 columns</p>\n</div>"
     },
     "metadata": {},
     "execution_count": 5
    }
   ],
   "source": [
    "dfHidro.head()"
   ]
  }
 ]
}