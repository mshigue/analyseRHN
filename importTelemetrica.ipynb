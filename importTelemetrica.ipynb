{
 "metadata": {
  "language_info": {
   "codemirror_mode": {
    "name": "ipython",
    "version": 3
   },
   "file_extension": ".py",
   "mimetype": "text/x-python",
   "name": "python",
   "nbconvert_exporter": "python",
   "pygments_lexer": "ipython3",
   "version": "3.8.3-final"
  },
  "orig_nbformat": 2,
  "kernelspec": {
   "name": "python3",
   "display_name": "Python 3"
  }
 },
 "nbformat": 4,
 "nbformat_minor": 2,
 "cells": [
  {
   "cell_type": "markdown",
   "metadata": {},
   "source": [
    "## Importa o inventário da rede Telemétrica da ANA"
   ]
  },
  {
   "cell_type": "code",
   "execution_count": 1,
   "metadata": {},
   "outputs": [],
   "source": [
    "import pandas as pd\n",
    "import requests\n",
    "import xml.etree.ElementTree as ET\n",
    "from tqdm import tqdm"
   ]
  },
  {
   "cell_type": "markdown",
   "metadata": {},
   "source": [
    "A função importa e retorna a lista de todas as estações da rede Telemétrica, portanto, pode levar algum tempo para a execução. Deve ser utilizada apenas para atualização do data frame."
   ]
  },
  {
   "cell_type": "code",
   "execution_count": 2,
   "metadata": {},
   "outputs": [],
   "source": [
    "### importa o inventário da rede Telemétrica da ANA\n",
    "paramsTelemetrica = {'statusEstacoes':'', 'origem':''}\n",
    "inventarioTelemetrica = requests.get('http://telemetriaws1.ana.gov.br/ServiceANA.asmx/ListaEstacoesTelemetricas', paramsTelemetrica)\n",
    "tree = ET.ElementTree(ET.fromstring(inventarioTelemetrica.content))\n",
    "root = tree.getroot()"
   ]
  },
  {
   "cell_type": "markdown",
   "metadata": {},
   "source": [
    "Cria o data frame do inventário e exporta para um arquivo csv, assim, evita o tempo para baixar novamente os dados."
   ]
  },
  {
   "cell_type": "code",
   "execution_count": 22,
   "metadata": {
    "tags": []
   },
   "outputs": [
    {
     "output_type": "stream",
     "name": "stderr",
     "text": "4140it [00:16, 258.05it/s]\n"
    }
   ],
   "source": [
    "### cria o data frame do inventário\n",
    "\n",
    "columnsTelemetrica = ['NomeEstacao', 'CodEstacao',\n",
    "                      'Bacia', 'SubBacia',\n",
    "                      'Operadora', 'Responsavel',\n",
    "                      'Municipio-UF',\n",
    "                      'Latitude', 'Longitude', 'Altitude', \n",
    "                      'CodRio', 'NomeRio',\n",
    "                      'Origem', 'StatusEstacao']\n",
    "\n",
    "index = 1\n",
    "dfTelemetrica = pd.DataFrame()\n",
    "for station in tqdm(root.iter('Table')):\n",
    "    for i in range(len(columnsTelemetrica)):\n",
    "        if columnsTelemetrica[i] == 'NomeRio':\n",
    "            dfTelemetrica.at[index, columnsTelemetrica[i]] = str(getattr(station.find(columnsTelemetrica[i]), 'text', None))\n",
    "        else:\n",
    "            dfTelemetrica.at[index, columnsTelemetrica[i]] = getattr(station.find(columnsTelemetrica[i]), 'text', None)\n",
    "    index += 1\n",
    "### exporta o data frame para um arquivo csv\n",
    "dfTelemetrica.to_csv('dfTelemetrica.csv')"
   ]
  },
  {
   "cell_type": "code",
   "execution_count": null,
   "metadata": {},
   "outputs": [],
   "source": []
  }
 ]
}