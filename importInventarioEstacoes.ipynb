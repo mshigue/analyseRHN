{
 "metadata": {
  "language_info": {
   "codemirror_mode": {
    "name": "ipython",
    "version": 3
   },
   "file_extension": ".py",
   "mimetype": "text/x-python",
   "name": "python",
   "nbconvert_exporter": "python",
   "pygments_lexer": "ipython3",
   "version": "3.8.3-final"
  },
  "orig_nbformat": 2,
  "kernelspec": {
   "name": "python3",
   "display_name": "Python 3"
  }
 },
 "nbformat": 4,
 "nbformat_minor": 2,
 "cells": [
  {
   "source": [
    "Atualização do inventário 08-10-2020"
   ],
   "cell_type": "markdown",
   "metadata": {}
  },
  {
   "cell_type": "markdown",
   "metadata": {},
   "source": [
    "## Importa o inventário da rede Hidro e Telemétrica da ANA\n",
    "\n",
    "Os dados das estações são importados do inventario do Hidro e Telemétrica da ANA, segundo o documento \"DESCRIÇÃO PARA DISPONIBILIZAR DADOS HIDROMETEOROLÓGICOS DOS SISTEMAS TELEMETRIA 1 E HIDRO\" da ANA, disponível em https://www.ana.gov.br/telemetria1ws/Telemetria1ws.pdf.\n",
    "\n",
    "A importação é realizada à partir do acesso ao portal da ANA via API (Application Programming Interface), onde, através de entradas de parâmetros \"vazios\" é retornada uma lista com todas as estações hidrometeorológicas. Portanto, este processo pode levar algum tempo para a execução, dependendo da capacidade computacional e da conexão de internet.\n",
    "\n",
    "Depois de gerada a lista no formato XML, o processo seguinte organiza os dados na forma de um data frame do Pandas e, então é exportado para um arquivo CSV.\n",
    "\n",
    "OBS: caso tenha a necessidade de fazer uma personalização na importação, é recomendável ler a documentação a cima. Neste caso, os dados de entrada devem ser inseridos no dicionário `params...` e as saídas podem ser habilitadas ou excluídas na lista `columns...`."
   ]
  },
  {
   "cell_type": "code",
   "execution_count": 1,
   "metadata": {
    "tags": []
   },
   "outputs": [],
   "source": [
    "import pandas as pd\n",
    "import requests\n",
    "import xml.etree.ElementTree as ET\n",
    "from tqdm import tqdm\n",
    "from datetime import datetime"
   ]
  },
  {
   "cell_type": "code",
   "execution_count": 2,
   "metadata": {},
   "outputs": [
    {
     "output_type": "stream",
     "name": "stderr",
     "text": [
      "4162it [00:09, 456.67it/s]\n"
     ]
    }
   ],
   "source": [
    "## IMPORTA INVENTÁRIO DA REDE TELEMÉTRICA ##\n",
    "## Parâmetros de entrada\n",
    "params = {'statusEstacoes':'', 'origem':''}\n",
    "## Dados de saída\n",
    "columnsStr = ['NomeEstacao', \n",
    "              'Operadora', 'Responsavel',\n",
    "              'Municipio-UF', 'NomeRio',\n",
    "              'Origem', 'StatusEstacao'\n",
    "              ]\n",
    "columnsNum = ['CodEstacao',\n",
    "              'Bacia', 'SubBacia', 'CodRio',\n",
    "              'Latitude', 'Longitude', 'Altitude'\n",
    "              ]\n",
    "## Busca no API da ANA\n",
    "inventarioTelemetrica = requests.get('http://telemetriaws1.ana.gov.br/ServiceANA.asmx/ListaEstacoesTelemetricas', params)\n",
    "## Organiza os dados no data frame\n",
    "tree = ET.ElementTree(ET.fromstring(inventarioTelemetrica.content))\n",
    "root = tree.getroot()\n",
    "index = 1\n",
    "dfTelemetrica = pd.DataFrame()\n",
    "for station in tqdm(root.iter('Table')):\n",
    "    for column in columnsStr:\n",
    "        dfTelemetrica.at[index, column] = str(getattr(station.find(column), 'text', None))\n",
    "    for column in columnsNum:\n",
    "        dfTelemetrica.at[index, column] = getattr(station.find(column), 'text', None)\n",
    "    index += 1\n",
    "### Exporta os dados para o arquivo CSV\n",
    "dfTelemetrica.to_csv('dfTelemetrica.csv')"
   ]
  },
  {
   "cell_type": "code",
   "execution_count": 5,
   "metadata": {},
   "outputs": [
    {
     "output_type": "stream",
     "name": "stderr",
     "text": [
      "40498it [19:17, 34.98it/s]\n"
     ]
    }
   ],
   "source": [
    "## IMPORTA INVENTÁRIO DA REDE HIDRO ##\n",
    "## Parâmetros de entrada\n",
    "params = {'codEstDE':'', 'codEstATE':'', 'tpEst':'', 'nmEst':'',\n",
    "          'nmRio':'', 'codSubBacia':'', 'codBacia':'',\n",
    "          'nmMunicipio':'', 'nmEstado':'',\n",
    "          'sgResp':'', 'sgOper':'',\n",
    "          'telemetrica':''}\n",
    "## Dados de saída\n",
    "columnsStr = [ 'Nome',\n",
    "               'RioNome',\n",
    "               'nmEstado', 'nmMunicipio',\n",
    "               'ResponsavelSigla', 'OperadoraSigla',\n",
    "               'ResponsavelUnidade', 'ResponsavelJurisdicao',\n",
    "               'OperadoraUnidade', 'OperadoraSubUnidade',\n",
    "#              'Descricao', 'NumImagens\n",
    "               ]\n",
    "columnsNum = [ 'Codigo', 'TipoEstacao',\n",
    "               'CodigoAdicional',\n",
    "#              'RioCodigo',\n",
    "               'BaciaCodigo', 'SubBaciaCodigo',\n",
    "#              'EstadoCodigo', 'MunicipioCodigo',\n",
    "#              'ResponsavelCodigo', 'OperadoraCodigo',\n",
    "               'Latitude', 'Longitude', 'Altitude', 'AreaDrenagem',\n",
    "               'TipoEstacaoEscala', 'TipoEstacaoRegistradorNivel', 'TipoEstacaoDescLiquida',\n",
    "               'TipoEstacaoSedimentos', 'TipoEstacaoQualAgua', 'TipoEstacaoPluviometro',\n",
    "               'TipoEstacaoRegistradorChuva', 'TipoEstacaoTanqueEvapo',\n",
    "               'TipoEstacaoClimatologica', 'TipoEstacaoPiezometria',\n",
    "               'TipoEstacaoTelemetrica',\n",
    "               'TipoRedeBasica', 'TipoRedeEnergetica', 'TipoRedeNavegacao',\n",
    "               'TipoRedeCursoDagua', 'TipoRedeEstrategica', 'TipoRedeCaptacao',\n",
    "               'TipoRedeSedimentos', 'TipoRedeQualAgua', 'TipoRedeClasseVazao',\n",
    "               'Operando'\n",
    "               ]\n",
    "columnsDate = ['PeriodoEscalaInicio', 'PeriodoEscalaFim',\n",
    "               'PeriodoRegistradorNivelInicio', 'PeriodoRegistradorNivelFim',\n",
    "               'PeriodoDescLiquidaInicio', 'PeriodoDescLiquidaFim',\n",
    "               'PeriodoSedimentosInicio', 'PeriodoSedimentosFim',\n",
    "               'PeriodoQualAguaInicio', 'PeriodoQualAguaFim',\n",
    "               'PeriodoPluviometroInicio', 'PeriodoPluviometroFim',\n",
    "               'PeriodoRegistradorChuvaInicio', 'PeriodoRegistradorChuvaFim',\n",
    "               'PeriodoTanqueEvapoInicio', 'PeriodoTanqueEvapoFim',\n",
    "               'PeriodoClimatologicaInicio', 'PeriodoClimatologicaFim',\n",
    "               'PeriodoPiezometriaInicio', 'PeriodoPiezometriaFim',\n",
    "               'PeriodoTelemetricaInicio', 'PeriodoTelemetricaFim',\n",
    "               'UltimaAtualizacao', 'DataIns', 'DataAlt'\n",
    "               ]\n",
    "## Busca no API da ANA\n",
    "inventarioHidro = requests.get('http://telemetriaws1.ana.gov.br/ServiceANA.asmx/HidroInventario', params)\n",
    "## Organiza os dados no data frame\n",
    "tree = ET.ElementTree(ET.fromstring(inventarioHidro.content))\n",
    "root = tree.getroot()\n",
    "index = 1\n",
    "dfHidro = pd.DataFrame()\n",
    "for station in tqdm(root.iter('Table')):\n",
    "    for column in columnsStr:\n",
    "        dfHidro.at[index, column] = str(getattr(station.find(column), 'text', None))\n",
    "    for column in columnsNum:\n",
    "        dfHidro.at[index, column] = getattr(station.find(column), 'text', None)\n",
    "    for column in columnsDate:\n",
    "        if station.find(column).text is not None:\n",
    "            dfHidro.at[index, column] = pd.to_datetime(datetime.strptime(station.find(column).text, '%Y-%m-%d %H:%M:%S'), errors = 'coerce')\n",
    "    index += 1\n",
    "## Exporta os dados para o arquivo CSV\n",
    "dfHidro.to_csv('dfHidro.csv')"
   ]
  },
  {
   "cell_type": "code",
   "execution_count": 6,
   "metadata": {},
   "outputs": [
    {
     "output_type": "stream",
     "name": "stderr",
     "text": [
      "94it [00:00, 1233.70it/s]\n"
     ]
    }
   ],
   "source": [
    "## IMPORTA A CODIFICAÇÃO DE BACIAS E SUBBACIAS ##\n",
    "## Parâmetros de entrada\n",
    "params = {'codBacia':'', 'codSubBacia':''}\n",
    "## Dados de saída\n",
    "columns = ['codBacia', 'nmBacia', 'codSubBacia', 'nmSubBacia']\n",
    "## Busca no API da ANA\n",
    "inventarioBacia = requests.get('http://telemetriaws1.ana.gov.br/ServiceANA.asmx/HidroBaciaSubBacia', params)\n",
    "## Organiza os dados no data frame\n",
    "tree = ET.ElementTree(ET.fromstring(inventarioBacia.content))\n",
    "root = tree.getroot()\n",
    "index = 1\n",
    "dfBacia = pd.DataFrame()\n",
    "for station in tqdm(root.iter('Table')):\n",
    "    for column in columns:\n",
    "        dfBacia.at[index, column] = getattr(station.find(column), 'text', None)\n",
    "    index += 1\n",
    "### Exporta os dados para o arquivo CSV\n",
    "dfBacia.to_csv('dfBacia.csv')"
   ]
  },
  {
   "cell_type": "code",
   "execution_count": 7,
   "metadata": {},
   "outputs": [
    {
     "output_type": "stream",
     "name": "stderr",
     "text": [
      "13755it [00:23, 589.06it/s]\n"
     ]
    }
   ],
   "source": [
    "## IMPORTA A CODIFICAÇÃO DE RIOS ##\n",
    "## Parâmetros de entrada\n",
    "params = {'codRio':''}\n",
    "## Dados de saída\n",
    "columns = ['BaciaCodigo', 'SubBaciaCodigo', 'Codigo', 'Nome']\n",
    "## Busca no API da ANA\n",
    "inventarioRio = requests.get('http://telemetriaws1.ana.gov.br/ServiceANA.asmx/HidroRio', params)\n",
    "## Organiza os dados no data frame\n",
    "tree = ET.ElementTree(ET.fromstring(inventarioRio.content))\n",
    "root = tree.getroot()\n",
    "index = 1\n",
    "dfRio = pd.DataFrame()\n",
    "for station in tqdm(root.iter('Table')):\n",
    "    for column in columns:\n",
    "        dfRio.at[index, column] = getattr(station.find(column), 'text', None)\n",
    "    index += 1\n",
    "### Exporta os dados para o arquivo CSV\n",
    "dfRio.to_csv('dfRio.csv')"
   ]
  },
  {
   "cell_type": "code",
   "execution_count": 8,
   "metadata": {},
   "outputs": [
    {
     "output_type": "stream",
     "name": "stderr",
     "text": [
      "39it [00:00, 860.88it/s]\n"
     ]
    }
   ],
   "source": [
    "## IMPORTA A CODIFICAÇÃO DE ESTADOS ##\n",
    "## Parâmetros de entrada\n",
    "params = {'codUf':''}\n",
    "## Dados de saída\n",
    "columns = ['Codigo', 'CodigoIBGE', 'Sigla', 'Nome']\n",
    "## Busca no API da ANA\n",
    "inventarioEstado = requests.get('http://telemetriaws1.ana.gov.br/ServiceANA.asmx/HidroEstado', params)\n",
    "## Organiza os dados no data frame\n",
    "tree = ET.ElementTree(ET.fromstring(inventarioEstado.content))\n",
    "root = tree.getroot()\n",
    "index = 1\n",
    "dfEstado = pd.DataFrame()\n",
    "for station in tqdm(root.iter('Table')):\n",
    "    for column in columns:\n",
    "        dfEstado.at[index, column] = getattr(station.find(column), 'text', None)\n",
    "    index += 1\n",
    "### Exporta os dados para o arquivo CSV\n",
    "dfEstado.to_csv('dfEstado.csv')"
   ]
  },
  {
   "cell_type": "code",
   "execution_count": 9,
   "metadata": {},
   "outputs": [
    {
     "output_type": "stream",
     "name": "stderr",
     "text": [
      "5710it [00:05, 1096.99it/s]\n"
     ]
    }
   ],
   "source": [
    "## IMPORTA A CODIFICAÇÃO DE MUNICIPIOS ##\n",
    "## Parâmetros de entrada\n",
    "params = {'codMunicipio':''}\n",
    "## Dados de saída\n",
    "columns = ['EstadoCodigo', 'Codigo', 'CodigoIBGE', 'Nome']\n",
    "## Busca no API da ANA\n",
    "inventarioMunicipio = requests.get('http://telemetriaws1.ana.gov.br/ServiceANA.asmx/HidroMunicipio', params)\n",
    "## Organiza os dados no data frame\n",
    "tree = ET.ElementTree(ET.fromstring(inventarioMunicipio.content))\n",
    "root = tree.getroot()\n",
    "index = 1\n",
    "dfMunicipio = pd.DataFrame()\n",
    "for station in tqdm(root.iter('Table')):\n",
    "    for column in columns:\n",
    "        dfMunicipio.at[index, column] = getattr(station.find(column), 'text', None)\n",
    "    index += 1\n",
    "### Exporta os dados para o arquivo CSV\n",
    "dfMunicipio.to_csv('dfMunicipio.csv')"
   ]
  },
  {
   "cell_type": "code",
   "execution_count": 10,
   "metadata": {},
   "outputs": [
    {
     "output_type": "stream",
     "name": "stderr",
     "text": [
      "1010it [00:00, 1586.67it/s]\n"
     ]
    }
   ],
   "source": [
    "## IMPORTA A CODIFICAÇÃO DE ENTIDADES ##\n",
    "## Parâmetros de entrada\n",
    "params = {'codEntidade':''}\n",
    "## Dados de saída\n",
    "columns = ['Codigo', 'Sigla', 'Nome']\n",
    "## Busca no API da ANA\n",
    "inventarioEntidades = requests.get('http://telemetriaws1.ana.gov.br/ServiceANA.asmx/HidroEntidades', params)\n",
    "## Organiza os dados no data frame\n",
    "tree = ET.ElementTree(ET.fromstring(inventarioEntidades.content))\n",
    "root = tree.getroot()\n",
    "index = 1\n",
    "dfEntidade = pd.DataFrame()\n",
    "for station in tqdm(root.iter('Table')):\n",
    "    for column in columns:\n",
    "        dfEntidade.at[index, column] = getattr(station.find(column), 'text', None)\n",
    "    index += 1\n",
    "### Exporta os dados para o arquivo CSV\n",
    "dfEntidade.to_csv('dfEntidade.csv')"
   ]
  },
  {
   "cell_type": "code",
   "execution_count": null,
   "metadata": {},
   "outputs": [],
   "source": []
  }
 ]
}